{
 "cells": [
  {
   "cell_type": "code",
   "execution_count": 2,
   "metadata": {},
   "outputs": [],
   "source": [
    "import pandas as pd\n",
    "import numpy as np\n",
    "import os \n",
    "import sys\n",
    "import json\n",
    "import random\n",
    "from Bio import SeqIO\n",
    "from sklearn.model_selection import train_test_split"
   ]
  },
  {
   "cell_type": "markdown",
   "metadata": {},
   "source": [
    "## Loading data"
   ]
  },
  {
   "cell_type": "code",
   "execution_count": 9,
   "metadata": {},
   "outputs": [
    {
     "name": "stdout",
     "output_type": "stream",
     "text": [
      "/home/developer/Projects/novo_dpo/data/processed/amp_train.json\n"
     ]
    }
   ],
   "source": [
    "# Select data from raw data folder\n",
    "FILENAME = \"antimicrobial_peptides_dataset_raw.tsv\"\n",
    "OUTPUT_NAME = \"amp_train.json\"\n",
    "OUTPUT_NAME_2 = \"amp_test.json\"\n",
    "\n",
    "PATH = os.path.join(os.getcwd(), 'data', 'raw', FILENAME)\n",
    "OUTPUT_PATH = os.path.join(os.getcwd(), 'data', 'processed', OUTPUT_NAME)\n",
    "OUTPUT_PATH_2 = os.path.join(os.getcwd(), 'data', 'processed', OUTPUT_NAME_2)\n",
    "print(OUTPUT_PATH)"
   ]
  },
  {
   "cell_type": "code",
   "execution_count": 5,
   "metadata": {},
   "outputs": [],
   "source": [
    "df_raw = pd.read_csv(filepath_or_buffer = PATH,\n",
    "                     sep=\"\\t\")\n"
   ]
  },
  {
   "cell_type": "markdown",
   "metadata": {},
   "source": [
    "## Functions for datast processing"
   ]
  },
  {
   "cell_type": "code",
   "execution_count": 10,
   "metadata": {},
   "outputs": [],
   "source": [
    "# create dictionary for input:\n",
    "REMOVALS = []\n",
    "\n",
    "def parse_dictionaries(raw_dataset):\n",
    "    '''\n",
    "    Raw dataset --> Dictionary {prompt, completion}\n",
    "    '''\n",
    "    dictionary = [{'prompt': seq, 'completion': seq} for seq in raw_dataset['Sequence']]\n",
    "\n",
    "    return dictionary\n",
    "\n",
    "# def  remove_last_n_chars(sequence, max_removals = None):\n",
    "#     '''\n",
    "#     Randomly removes chars from og sequence for prompting to llm\n",
    "#     seq: str sequence of AAs\n",
    "#     max_removals = number of \n",
    "#     '''\n",
    "#     if len(sequence) <= 1:\n",
    "#         return sequence  # Avoid removing everything\n",
    "\n",
    "#     if max_removals is None:\n",
    "#         max_removals = len(sequence) - 1  # Allow max possible removals\n",
    "\n",
    "#     num_removals = random.randint(0,\n",
    "#                                   min(max_removals, len(sequence)-1))\n",
    "#     REMOVALS.append(num_removals)\n",
    "    \n",
    "#     shortened_sequence = sequence[: -num_removals] if num_removals > 0 else sequence\n",
    "\n",
    "    \n",
    "\n",
    "#     return shortened_sequence\n",
    "\n",
    "\n",
    "def remove_last_n_chars(sequence, max_removals=None):\n",
    "    '''\n",
    "    Randomly removes chars from original sequence and returns both the shortened sequence\n",
    "    and the complementary part that was removed.\n",
    "    \n",
    "    Args:\n",
    "        sequence (str): Sequence of characters (e.g., AAs)\n",
    "        max_removals (int, optional): Maximum number of characters to remove. Defaults to None.\n",
    "    \n",
    "    Returns:\n",
    "        tuple: (shortened_sequence, removed_part)\n",
    "    '''\n",
    "    if len(sequence) <= 1:\n",
    "        return sequence, ''  # Avoid removing everything, return empty string for removed part\n",
    "\n",
    "    if max_removals is None:\n",
    "        max_removals = len(sequence) - 1  # Allow max possible removals\n",
    "\n",
    "    num_removals = random.randint(1, min(max_removals, len(sequence)-1))\n",
    "    \n",
    "    shortened_sequence = sequence[:-num_removals] if num_removals > 0 else sequence\n",
    "    removed_part = sequence[-num_removals:] if num_removals > 0 else ''\n",
    "    \n",
    "    return shortened_sequence, removed_part\n",
    "\n",
    "\n",
    "def parse_dataset_dictionaries( raw_df, max_removals = None):\n",
    "\n",
    "    dictionaries = list(map(lambda seq : {'prompt': remove_last_n_chars(seq, max_removals),\n",
    "                                          'completion': seq},\n",
    "                                          raw_df['Sequence']))\n",
    "    \n",
    "    return dictionaries\n",
    "\n",
    "\n",
    "def parse_dataset_dictionaries(raw_df, max_removals=None):\n",
    "    \"\"\"\n",
    "    Creates a list of dictionaries where:\n",
    "    - 'prompt' is the shortened sequence\n",
    "    - 'completion' is just the removed part (complement)\n",
    "    \n",
    "    Args:\n",
    "        raw_df: DataFrame containing sequences\n",
    "        max_removals: Maximum number of characters to remove\n",
    "        \n",
    "    Returns:\n",
    "        List of dictionaries with prompt-completion pairs\n",
    "    \"\"\"\n",
    "    dictionaries = []\n",
    "    \n",
    "    for seq in raw_df['Sequence']:\n",
    "        shortened, removed = remove_last_n_chars(seq, max_removals)\n",
    "        dictionaries.append({\n",
    "            'prompt': shortened,\n",
    "            'completion': removed\n",
    "        })\n",
    "    \n",
    "    return dictionaries\n",
    "\n",
    "\n",
    "\n",
    "\n",
    "def save_dataset(dictionaries, output_path):\n",
    "\n",
    "    with open(output_path, \"w\") as f :\n",
    "        json.dump(dictionaries,\n",
    "                  f,\n",
    "                  indent = 4)\n",
    "        \n",
    "\n",
    "def fasta_to_dataframe(fasta_file):\n",
    "    \"\"\"\n",
    "    Converts a FASTA file into a pandas DataFrame with two columns:\n",
    "    - 'entry': The header (without '>')\n",
    "    - 'sequence': The sequence\n",
    "\n",
    "    Parameters:\n",
    "        fasta_file (str): Path to the FASTA file\n",
    "\n",
    "    Returns:\n",
    "        pd.DataFrame: DataFrame with columns ['entry', 'sequence']\n",
    "    \"\"\"\n",
    "    entries = []\n",
    "    sequences = []\n",
    "\n",
    "    # Read FASTA file\n",
    "    for record in SeqIO.parse(fasta_file, \"fasta\"):\n",
    "        entries.append(record.id)  # Header without '>'\n",
    "        sequences.append(str(record.seq))  # Sequence as string\n",
    "\n",
    "    # Create DataFrame\n",
    "    df = pd.DataFrame({\"entry\": entries, \"sequence\": sequences})\n",
    "    return df\n",
    "\n",
    "\n",
    "import pandas as pd\n",
    "import random\n",
    "\n",
    "def parse_sequences_to_dict(df, max_removals=None):\n",
    "    \"\"\"\n",
    "    Parses sequences from a DataFrame into prompt-completion pairs.\n",
    "    \n",
    "    Args:\n",
    "        df (pd.DataFrame): DataFrame containing a 'Sequence' column\n",
    "        max_removals (int, optional): Max characters to remove from sequence\n",
    "        \n",
    "    Returns:\n",
    "        dict: Dictionary with 'prompt' and 'completion' lists\n",
    "    \"\"\"\n",
    "    if 'Sequence' not in df.columns:\n",
    "        raise ValueError(\"DataFrame must contain 'Sequence' column\")\n",
    "    \n",
    "    result = {\n",
    "        \"prompt\": [],\n",
    "        \"completion\": []\n",
    "    }\n",
    "    \n",
    "    for seq in df['Sequence']:\n",
    "        if pd.isna(seq) or not isinstance(seq, str) or len(seq.strip()) == 0:\n",
    "            continue\n",
    "            \n",
    "        # Remove random number of characters from end\n",
    "        if max_removals is None:\n",
    "            max_removals = len(seq) - 1\n",
    "            \n",
    "        num_removals = random.randint(1, min(max_removals, len(seq)-1))\n",
    "        prompt_part = seq[:-num_removals] if num_removals > 0 else seq\n",
    "        completion_part = seq[-num_removals:] if num_removals > 0 else \"\"\n",
    "        \n",
    "        # Append to lists instead of using indices\n",
    "        result[\"prompt\"].append(prompt_part)\n",
    "        result[\"completion\"].append(completion_part)\n",
    "        \n",
    "    return result"
   ]
  },
  {
   "cell_type": "markdown",
   "metadata": {},
   "source": [
    "## Execution"
   ]
  },
  {
   "cell_type": "code",
   "execution_count": 12,
   "metadata": {},
   "outputs": [],
   "source": [
    "df_train, df_test = train_test_split(df_raw, test_size=0.2, random_state=42)\n",
    "\n",
    "# Parse each split\n",
    "train_dict = parse_sequences_to_dict(df_train)\n",
    "test_dict = parse_sequences_to_dict(df_test)\n",
    "\n",
    "save_dataset(dictionaries = train_dict,\n",
    "             output_path = OUTPUT_PATH)\n",
    "\n",
    "save_dataset(dictionaries = test_dict,\n",
    "             output_path = OUTPUT_PATH_2)\n",
    "\n",
    "#dataset_dictionary = parse_sequences_to_dict(df_raw)\n",
    "\n"
   ]
  },
  {
   "cell_type": "code",
   "execution_count": 13,
   "metadata": {},
   "outputs": [
    {
     "data": {
      "application/vnd.microsoft.datawrangler.viewer.v0+json": {
       "columns": [
        {
         "name": "index",
         "rawType": "int64",
         "type": "integer"
        },
        {
         "name": "prompt",
         "rawType": "object",
         "type": "string"
        },
        {
         "name": "completion",
         "rawType": "object",
         "type": "string"
        }
       ],
       "conversionMethod": "pd.DataFrame",
       "ref": "20d67660-e375-4d38-9de2-f8ab10a2f650",
       "rows": [
        [
         "0",
         "SUBREDDIT: r/relationships\n\nTITLE: I (f/22) have to figure out if I want to still know these girls or not and would hate to sound insulting\n\nPOST: Not sure if this belongs here but it's worth a try. \n\nBackstory:\nWhen I (f/22) went through my first real breakup 2 years ago because he needed space after a year of dating roand  it effected me more than I thought. It was a horrible time in my life due to living with my mother and finally having the chance to cut her out of my life. I can admit because of it was an emotional wreck and this guy was stable and didn't know how to deal with me. We ended by him avoiding for a month or so after going to a festival with my friends. When I think back I wish he just ended. So after he ended it added my depression I suffered but my friends helped me through it and I got rid of everything from him along with cutting contact. \n\nNow: Its been almost 3 years now and I've gotten better after counselling and mild anti depressants. My mother has been out of my life since then so there's been alot of progress. Being stronger after learning some lessons there been more insight about that time of my life but when I see him or a picture everything comes back. The emotions and memories bring me back down. \n\nHis friends (both girls) are on my facebook because we get along well which is hard to find and I know they'll always have his back. But seeing him in a picture or talking to him at a convention having a conversation is tough. Crying confront of my current boyfriend is something I want to avoid. \n\nSo I've been thinking that I have to cut contact with these girls because it's time to move on because it's healthier. It's best to avoid him as well. But will they be insulted? Will they accept it? Is there going to be awkwardness? I'm not sure if it's the right to do and could use some outside opinions.\n\nTL;DR:",
         " I still have contact with an old ex's friends but can't stand to see or talk to him. His friends are really nice ,so how do I tell them I possibly want to unfriend them on Facebook because of him?"
        ],
        [
         "1",
         "SUBREDDIT: r/loseit\n\nTITLE: SV & NSV! Keeping on keeping on.\n\nPOST: 30F, 5'6\". SW: 236 GW: 150 CW: 219\n\nI weigh myself weekly and measure myself monthly. I'd hit a plateau the last four weeks or so where I was stuck at 222. Felt like kind of a bummer, but knew it's because I haven't been as strict as I should with my diet, and the last week and a half have been crazy with life things, so I haven't been exercising as frequently as I've gotten used to. When I weighed myself as normal on Monday, I was kind of disappointed to see the scale not budging and figured it was time to buckle down again and really watch my diet. Today was my measure-in day, and I've felt cruddy in general since Monday because I caught some chest congestion/cold bug over the weekend. I get on the scale...it says 219. Whaaaaat? I take my measurements, which are down slightly from last month, and with an total-body loss of 8 inches from my starting point on 12/23/14! Some of my clothes have been feeling a bit looser as of late and now I know it's just not in my head. I'm now the lightest and smallest I've been since right around high school!\n\nTL;DR:",
         " Progress is still happening, even when you think it might not be! Don't get discouraged, even if your journey seems to be going slowly. Don't give up, warriors."
        ],
        [
         "2",
         "SUBREDDIT: r/relationships\n\nTITLE: Me [19F] with my friend [19M] 10 months, Insecurities - Show or Tell?\n\nPOST: What are your stories about insecurities you've had in past relationships? How have you dealt with them, particularly the ones that you can't hide?\n\nI'm not currently in a relationship, but recently I've realized that there is someone who likes me, and I'm interested in them, too. Frankly, the only reason I'm not asking them out is because I know that I have some insecurities that need to be worked through - particularly in the realm of body image. While I'm confident in the rest of my body, I've had terrible, awful acne both on my arms and breasts since I was very young. It's a special type with no complete cure, but doctors suggested that I keep my skin oiled until it goes away (dryness irritates it). Because of this it's not so much present anymore as large clusters of scars are.\n\nWould I warn someone about this upfront before anything sexual? Would I just let it surprise them when the clothes come off? Do I tell them \"Let's keep on my shirt for now\" while we do our business? \n\nHave you had experiences with anything similar? I want to hear how they went!\n\nTL;DR:",
         " My skin is scarred badly; what could I do/say about it that would gross my future partner out the least? What's your experience with body image issues?"
        ],
        [
         "3",
         "SUBREDDIT: r/personalfinance\n\nTITLE: Prioritize student debt or saving for down payment?\n\nPOST: I have $25k in student debt. One private loan at 9.5% (highest priority obviously) and nine others federal between 3.4% and 6.8%. Minimum payment per month total is $301.16. Over the next 9 months, I will pay off $11k of these, which will get rid of everything above 5% interest and will drop the total minimum payment to $150. \n\nAt the end of the 9 months, our savings will be around $35k. At that time my husband will need to purchase a car so some of that will be his down payment. So more realistically $25-30k. \n\nSometime in the future, between a year to two years from now, my husband and I may be moving. Typical single family homes in this area go for around $300k. \n\nAt the end of the 9 months, should I continue to focus on paying down student debt (which will be a balance of $14k by then) or growing our savings/down payment? I have $5200/mo to somehow split between debt and down payment and I'm not sure how best to allocate it.\n\nTL;DR:",
         " $14k in student debt (all <5%) and need to save more for down payment on a ~$300k house. How to allocate $5200/mo between the two?"
        ],
        [
         "4",
         "SUBREDDIT: r/relationships\n\nTITLE: My[25m] girlfriend [24f] is only nice and pleasant when I'm aloof and distant. (9 months)\n\nPOST: Throwaway\n\nI noticed the more I'm cold and distant towards my girlfriend, the more pleasant she becomes. She'll come over and clean my apartment, do laundry, dishes and cook for me, even as far as to offer oral favors while I'm drinking a beer! \n\nShe seems completely happy and content during this time, which makes me happy and I naturally want to do things back for her. As soon as I start doing her favors, she picks fights and complains nonstop. Latest issue was I offered to take her and her mom to dinner. She kept giving me shit about how I'm going to be spending too much time with my brother (who's visiting for a week soon), which she was totally fine with when I was being distant with her. She'll call me a bitch in a joking way, and just take the piss out of me whenever I'm kind or go out of my way to apologize. \n\nThis naturally makes me feel cold and indifferent toward her. Once she senses that, she's all about making me the happiest boyfriend and apologizes for all the shit she was giving me the week previously. It's a vicious cycle but I'm not sure what to do here. I've brought this up with her and she recognizes it and has no solution. She just \"feels differently towards me sometimes\" and can't explain it.\n\n**So what do I do here? Do I keep up the aloof, distant attitude to keep her interested or suffer her negging in kindness, my default setting.\n\nTL;DR:",
         " GF is a meanie-bo-beanie when I'm nice, and an absolute doll when I'm uninterested. Sex is bomb and she's the hottest I've ever dated. What do?"
        ]
       ],
       "shape": {
        "columns": 2,
        "rows": 5
       }
      },
      "text/html": [
       "<div>\n",
       "<style scoped>\n",
       "    .dataframe tbody tr th:only-of-type {\n",
       "        vertical-align: middle;\n",
       "    }\n",
       "\n",
       "    .dataframe tbody tr th {\n",
       "        vertical-align: top;\n",
       "    }\n",
       "\n",
       "    .dataframe thead th {\n",
       "        text-align: right;\n",
       "    }\n",
       "</style>\n",
       "<table border=\"1\" class=\"dataframe\">\n",
       "  <thead>\n",
       "    <tr style=\"text-align: right;\">\n",
       "      <th></th>\n",
       "      <th>prompt</th>\n",
       "      <th>completion</th>\n",
       "    </tr>\n",
       "  </thead>\n",
       "  <tbody>\n",
       "    <tr>\n",
       "      <th>0</th>\n",
       "      <td>SUBREDDIT: r/relationships\\n\\nTITLE: I (f/22) ...</td>\n",
       "      <td>I still have contact with an old ex's friends...</td>\n",
       "    </tr>\n",
       "    <tr>\n",
       "      <th>1</th>\n",
       "      <td>SUBREDDIT: r/loseit\\n\\nTITLE: SV &amp; NSV! Keepin...</td>\n",
       "      <td>Progress is still happening, even when you th...</td>\n",
       "    </tr>\n",
       "    <tr>\n",
       "      <th>2</th>\n",
       "      <td>SUBREDDIT: r/relationships\\n\\nTITLE: Me [19F] ...</td>\n",
       "      <td>My skin is scarred badly; what could I do/say...</td>\n",
       "    </tr>\n",
       "    <tr>\n",
       "      <th>3</th>\n",
       "      <td>SUBREDDIT: r/personalfinance\\n\\nTITLE: Priorit...</td>\n",
       "      <td>$14k in student debt (all &lt;5%) and need to sa...</td>\n",
       "    </tr>\n",
       "    <tr>\n",
       "      <th>4</th>\n",
       "      <td>SUBREDDIT: r/relationships\\n\\nTITLE: My[25m] g...</td>\n",
       "      <td>GF is a meanie-bo-beanie when I'm nice, and a...</td>\n",
       "    </tr>\n",
       "  </tbody>\n",
       "</table>\n",
       "</div>"
      ],
      "text/plain": [
       "                                              prompt  \\\n",
       "0  SUBREDDIT: r/relationships\\n\\nTITLE: I (f/22) ...   \n",
       "1  SUBREDDIT: r/loseit\\n\\nTITLE: SV & NSV! Keepin...   \n",
       "2  SUBREDDIT: r/relationships\\n\\nTITLE: Me [19F] ...   \n",
       "3  SUBREDDIT: r/personalfinance\\n\\nTITLE: Priorit...   \n",
       "4  SUBREDDIT: r/relationships\\n\\nTITLE: My[25m] g...   \n",
       "\n",
       "                                          completion  \n",
       "0   I still have contact with an old ex's friends...  \n",
       "1   Progress is still happening, even when you th...  \n",
       "2   My skin is scarred badly; what could I do/say...  \n",
       "3   $14k in student debt (all <5%) and need to sa...  \n",
       "4   GF is a meanie-bo-beanie when I'm nice, and a...  "
      ]
     },
     "execution_count": 13,
     "metadata": {},
     "output_type": "execute_result"
    }
   ],
   "source": [
    "df = pd.read_parquet(\"data/train-00000-of-00001.parquet\")\n",
    "df.head()"
   ]
  },
  {
   "cell_type": "code",
   "execution_count": 16,
   "metadata": {},
   "outputs": [],
   "source": [
    "df.to_json(\"data/train.json\", indent=4)"
   ]
  },
  {
   "cell_type": "code",
   "execution_count": null,
   "metadata": {},
   "outputs": [],
   "source": []
  }
 ],
 "metadata": {
  "kernelspec": {
   "display_name": ".venv",
   "language": "python",
   "name": "python3"
  },
  "language_info": {
   "codemirror_mode": {
    "name": "ipython",
    "version": 3
   },
   "file_extension": ".py",
   "mimetype": "text/x-python",
   "name": "python",
   "nbconvert_exporter": "python",
   "pygments_lexer": "ipython3",
   "version": "3.12.7"
  }
 },
 "nbformat": 4,
 "nbformat_minor": 2
}
